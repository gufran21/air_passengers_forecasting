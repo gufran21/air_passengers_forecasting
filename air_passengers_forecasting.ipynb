{
 "cells": [
  {
   "cell_type": "code",
   "execution_count": null,
   "id": "d2b06444",
   "metadata": {},
   "outputs": [],
   "source": []
  },
  {
   "cell_type": "code",
   "execution_count": null,
   "id": "8794c8fa",
   "metadata": {
    "lines_to_next_cell": 2
   },
   "outputs": [],
   "source": [
    "\n",
    "\n",
    "import pandas as pd\n",
    "import numpy as np\n",
    "import matplotlib.pyplot as plt\n",
    "import seaborn as sns"
   ]
  },
  {
   "cell_type": "code",
   "execution_count": null,
   "id": "31ed2b69",
   "metadata": {
    "lines_to_next_cell": 2
   },
   "outputs": [],
   "source": [
    "\n",
    "\n",
    "sns.get_dataset_names()"
   ]
  },
  {
   "cell_type": "code",
   "execution_count": null,
   "id": "4398b4da",
   "metadata": {
    "lines_to_next_cell": 2
   },
   "outputs": [],
   "source": [
    "\n",
    "\n",
    "df = sns.load_dataset('flights')\n",
    "df['yearMonth'] = pd.to_datetime(\"01-\"+df['month'].astype(str)+\"-\"+df['year'].astype(str))\n",
    "df.set_index('yearMonth',inplace=True)\n",
    "df.head()"
   ]
  },
  {
   "cell_type": "code",
   "execution_count": null,
   "id": "1d32e0f5",
   "metadata": {
    "lines_to_next_cell": 2
   },
   "outputs": [],
   "source": [
    "\n",
    "\n",
    "plt.figure(figsize=(10,5))\n",
    "sns.lineplot(data=df,x=df.index,y=df.passengers)"
   ]
  },
  {
   "cell_type": "code",
   "execution_count": null,
   "id": "82e8cac8",
   "metadata": {
    "lines_to_next_cell": 2
   },
   "outputs": [],
   "source": [
    "\n",
    "\n",
    "df['rollMean']  = df.passengers.rolling(window=12).mean()\n",
    "df['rollStd']  = df.passengers.rolling(window=12).std()"
   ]
  },
  {
   "cell_type": "code",
   "execution_count": null,
   "id": "558b2010",
   "metadata": {
    "lines_to_next_cell": 2
   },
   "outputs": [],
   "source": [
    "\n",
    "\n",
    "plt.figure(figsize=(10,5))\n",
    "sns.lineplot(data=df,x=df.index,y=df.passengers)\n",
    "sns.lineplot(data=df,x=df.index,y=df.rollMean)\n",
    "sns.lineplot(data=df,x=df.index,y=df.rollStd)"
   ]
  },
  {
   "cell_type": "code",
   "execution_count": null,
   "id": "e2ad4df1",
   "metadata": {
    "lines_to_next_cell": 2
   },
   "outputs": [],
   "source": [
    "\n",
    "\n",
    "from statsmodels.tsa.stattools import adfuller"
   ]
  },
  {
   "cell_type": "code",
   "execution_count": null,
   "id": "c1620c10",
   "metadata": {
    "lines_to_next_cell": 2
   },
   "outputs": [],
   "source": [
    "\n",
    "\n",
    "adfTest = adfuller(df['passengers'],autolag='AIC',)"
   ]
  },
  {
   "cell_type": "code",
   "execution_count": null,
   "id": "f59b36c6",
   "metadata": {
    "lines_to_next_cell": 2
   },
   "outputs": [],
   "source": [
    "\n",
    "\n",
    "adfTest"
   ]
  },
  {
   "cell_type": "code",
   "execution_count": null,
   "id": "2729faa8",
   "metadata": {
    "lines_to_next_cell": 2
   },
   "outputs": [],
   "source": [
    "\n",
    "\n",
    "stats = pd.Series(adfTest[0:4],index=['Test Statistic','p-value','#lags used','number of observations used'])\n",
    "stats"
   ]
  },
  {
   "cell_type": "code",
   "execution_count": null,
   "id": "29bb0e40",
   "metadata": {
    "lines_to_next_cell": 2
   },
   "outputs": [],
   "source": [
    "\n",
    "\n",
    "for key, values in adfTest[4].items():\n",
    "    print('criticality',key,\":\",values)"
   ]
  },
  {
   "cell_type": "code",
   "execution_count": null,
   "id": "22edefc4",
   "metadata": {
    "lines_to_next_cell": 2
   },
   "outputs": [],
   "source": [
    "\n",
    "\n",
    "def test_stationarity(dataFrame, var):\n",
    "    dataFrame['rollMean']  = dataFrame[var].rolling(window=12).mean()\n",
    "    dataFrame['rollStd' ]  = dataFrame[var].rolling(window=12).std()\n",
    "    \n",
    "    from statsmodels.tsa.stattools import adfuller\n",
    "    adfTest = adfuller(dataFrame[var],autolag='AIC')\n",
    "    stats = pd.Series(adfTest[0:4],index=['Test Statistic','p-value','#lags used','number of observations used'])\n",
    "    print(stats)\n",
    "    \n",
    "    for key, values in adfTest[4].items():\n",
    "        print('criticality',key,\":\",values)\n",
    "        \n",
    "    sns.lineplot(data=dataFrame,x=dataFrame.index,y=var)\n",
    "    sns.lineplot(data=dataFrame,x=dataFrame.index,y='rollMean')\n",
    "    sns.lineplot(data=dataFrame,x=dataFrame.index,y='rollStd')"
   ]
  },
  {
   "cell_type": "code",
   "execution_count": null,
   "id": "97269760",
   "metadata": {
    "lines_to_next_cell": 2
   },
   "outputs": [],
   "source": [
    "\n",
    "\n",
    "air_df = df[['passengers']]\n",
    "air_df.head()"
   ]
  },
  {
   "cell_type": "code",
   "execution_count": null,
   "id": "11b0693d",
   "metadata": {
    "lines_to_next_cell": 2
   },
   "outputs": [],
   "source": [
    "\n",
    "\n",
    "# time shift\n",
    "\n",
    "air_df['shift'] = air_df.passengers.shift()\n",
    "air_df['shiftDiff'] = air_df['passengers'] - air_df['shift']\n",
    "air_df.head()"
   ]
  },
  {
   "cell_type": "code",
   "execution_count": null,
   "id": "b2fdbedc",
   "metadata": {
    "lines_to_next_cell": 2
   },
   "outputs": [],
   "source": [
    "\n",
    "\n",
    "test_stationarity(air_df.dropna(),'shiftDiff')"
   ]
  },
  {
   "cell_type": "code",
   "execution_count": null,
   "id": "d5174c0d",
   "metadata": {
    "lines_to_next_cell": 2
   },
   "outputs": [],
   "source": [
    "\n",
    "\n",
    "log_df = df[['passengers']]\n",
    "log_df['log'] = np.log(log_df['passengers'])\n",
    "log_df.head()"
   ]
  },
  {
   "cell_type": "code",
   "execution_count": null,
   "id": "f3b1ff7c",
   "metadata": {
    "lines_to_next_cell": 2
   },
   "outputs": [],
   "source": [
    "\n",
    "\n",
    "test_stationarity(log_df,'log')"
   ]
  },
  {
   "cell_type": "code",
   "execution_count": null,
   "id": "c0f9f31e",
   "metadata": {
    "lines_to_next_cell": 2
   },
   "outputs": [],
   "source": [
    "\n",
    "\n",
    "sqrt_df = df[['passengers']]\n",
    "sqrt_df['sqrt'] = np.sqrt(df['passengers'])\n",
    "sqrt_df.head()"
   ]
  },
  {
   "cell_type": "code",
   "execution_count": null,
   "id": "fb9753c6",
   "metadata": {
    "lines_to_next_cell": 2
   },
   "outputs": [],
   "source": [
    "\n",
    "\n",
    "test_stationarity(sqrt_df,'sqrt')"
   ]
  },
  {
   "cell_type": "code",
   "execution_count": null,
   "id": "77e93175",
   "metadata": {
    "lines_to_next_cell": 2
   },
   "outputs": [],
   "source": [
    "\n",
    "\n",
    "cbrt_df = df[['passengers']]\n",
    "cbrt_df['cbrt'] = np.cbrt(cbrt_df['passengers'])\n",
    "cbrt_df.head()"
   ]
  },
  {
   "cell_type": "code",
   "execution_count": null,
   "id": "ceed6949",
   "metadata": {
    "lines_to_next_cell": 2
   },
   "outputs": [],
   "source": [
    "\n",
    "\n",
    "test_stationarity(cbrt_df,'cbrt')"
   ]
  },
  {
   "cell_type": "code",
   "execution_count": null,
   "id": "74f10806",
   "metadata": {
    "lines_to_next_cell": 2
   },
   "outputs": [],
   "source": [
    "\n",
    "\n",
    "log_df2 = log_df[['passengers','log']]\n",
    "log_df2['log_sqrt'] = np.sqrt(log_df['log'])\n",
    "log_df2['logShiftDiff'] = log_df2['log_sqrt'] - log_df2['log_sqrt'].shift()\n",
    "log_df2.head()"
   ]
  },
  {
   "cell_type": "code",
   "execution_count": null,
   "id": "6aa753ac",
   "metadata": {
    "lines_to_next_cell": 2
   },
   "outputs": [],
   "source": [
    "\n",
    "\n",
    "test_stationarity(log_df2.dropna(),'logShiftDiff')"
   ]
  },
  {
   "cell_type": "code",
   "execution_count": null,
   "id": "86be73b9",
   "metadata": {
    "lines_to_next_cell": 2
   },
   "outputs": [],
   "source": [
    "\n",
    "\n",
    "log_shift = df[['passengers']].copy(deep=True)\n",
    "log_shift['log'] = np.log(log_shift['passengers'])\n",
    "log_shift['logShift'] = log_shift['log'].shift()\n",
    "log_shift['logShiftDiff'] = log_shift['log'] - log_shift['logShift']\n",
    "log_shift.head()"
   ]
  },
  {
   "cell_type": "code",
   "execution_count": null,
   "id": "11c4d724",
   "metadata": {},
   "outputs": [],
   "source": [
    "\n",
    "\n",
    "test_stationarity(log_shift.dropna(),'logShiftDiff')\n",
    "\n",
    "\n",
    "# # Next - 2"
   ]
  },
  {
   "cell_type": "code",
   "execution_count": null,
   "id": "4b531c68",
   "metadata": {
    "lines_to_next_cell": 2
   },
   "outputs": [],
   "source": [
    "\n",
    "\n",
    "airP = df[['passengers']].copy(deep=True)\n",
    "airP['firstDiff'] = airP['passengers'].diff()\n",
    "airP['Diff12'] = airP['passengers'].diff(12)"
   ]
  },
  {
   "cell_type": "code",
   "execution_count": null,
   "id": "353bcb6d",
   "metadata": {
    "lines_to_next_cell": 2
   },
   "outputs": [],
   "source": [
    "\n",
    "\n",
    "airP.head()"
   ]
  },
  {
   "cell_type": "code",
   "execution_count": null,
   "id": "6ffaa772",
   "metadata": {
    "lines_to_next_cell": 2
   },
   "outputs": [],
   "source": [
    "\n",
    "\n",
    "from statsmodels.tsa.arima.model import ARIMA\n",
    "from statsmodels.graphics.tsaplots import plot_acf, plot_pacf"
   ]
  },
  {
   "cell_type": "code",
   "execution_count": null,
   "id": "b2956b9a",
   "metadata": {
    "lines_to_next_cell": 2
   },
   "outputs": [],
   "source": [
    "\n",
    "\n",
    "plot_pacf(airP['firstDiff'].dropna(),lags=20);"
   ]
  },
  {
   "cell_type": "code",
   "execution_count": null,
   "id": "48780943",
   "metadata": {
    "lines_to_next_cell": 2
   },
   "outputs": [],
   "source": [
    "\n",
    "\n",
    "plot_acf(airP['firstDiff'].dropna(),lags=20);"
   ]
  },
  {
   "cell_type": "code",
   "execution_count": null,
   "id": "9a5b5b20",
   "metadata": {
    "lines_to_next_cell": 2
   },
   "outputs": [],
   "source": [
    "\n",
    "\n",
    "# p = 1, q = 3, d =1"
   ]
  },
  {
   "cell_type": "code",
   "execution_count": null,
   "id": "69c3c78e",
   "metadata": {
    "lines_to_next_cell": 2
   },
   "outputs": [],
   "source": [
    "\n",
    "\n",
    "train = airP[:round(len(airP)*70/100)]\n",
    "test = airP[round(len(airP)*70/100):]\n",
    "test.head()"
   ]
  },
  {
   "cell_type": "code",
   "execution_count": null,
   "id": "b68d8652",
   "metadata": {
    "lines_to_next_cell": 2
   },
   "outputs": [],
   "source": [
    "\n",
    "\n",
    "model = ARIMA(train['passengers'],order=(1,1,3))\n",
    "model_fit = model.fit()\n",
    "prediction = model_fit.predict(start=test.index[0],end=test.index[-1])\n",
    "airP['arimaPred'] = prediction\n",
    "airP.tail()"
   ]
  },
  {
   "cell_type": "code",
   "execution_count": null,
   "id": "e5385543",
   "metadata": {
    "lines_to_next_cell": 2
   },
   "outputs": [],
   "source": [
    "\n",
    "\n",
    "airP.dropna()\n",
    "sns.lineplot(data=airP,x=airP.index,y='passengers')\n",
    "sns.lineplot(data=airP,x=airP.index,y='arimaPred')"
   ]
  },
  {
   "cell_type": "code",
   "execution_count": null,
   "id": "bfab9416",
   "metadata": {
    "lines_to_next_cell": 2
   },
   "outputs": [],
   "source": [
    "\n",
    "\n",
    "from sklearn.metrics import mean_squared_error"
   ]
  },
  {
   "cell_type": "code",
   "execution_count": null,
   "id": "7c749820",
   "metadata": {
    "lines_to_next_cell": 2
   },
   "outputs": [],
   "source": [
    "\n",
    "\n",
    "np.sqrt(mean_squared_error(test['passengers'],prediction))"
   ]
  },
  {
   "cell_type": "code",
   "execution_count": null,
   "id": "c63b2e48",
   "metadata": {
    "lines_to_next_cell": 2
   },
   "outputs": [],
   "source": [
    "\n",
    "\n",
    "from statsmodels.tsa.statespace.sarimax import SARIMAX"
   ]
  },
  {
   "cell_type": "code",
   "execution_count": null,
   "id": "e08e711f",
   "metadata": {
    "lines_to_next_cell": 2
   },
   "outputs": [],
   "source": [
    "\n",
    "\n",
    "plot_pacf(airP['Diff12'].dropna(),lags=20);\n",
    "plot_acf(airP['Diff12'].dropna(),lags=20);"
   ]
  },
  {
   "cell_type": "code",
   "execution_count": null,
   "id": "0099f24f",
   "metadata": {
    "lines_to_next_cell": 2
   },
   "outputs": [],
   "source": [
    "\n",
    "\n",
    "model = SARIMAX(train['passengers'],order=(1,1,3),seasonal_order=(2,1,2,12))\n",
    "model_fit = model.fit()\n",
    "prediction = model_fit.predict(start=test.index[0],end=test.index[-1])\n",
    "airP['sarimaxPred'] = prediction"
   ]
  },
  {
   "cell_type": "code",
   "execution_count": null,
   "id": "2b68d2b7",
   "metadata": {
    "lines_to_next_cell": 2
   },
   "outputs": [],
   "source": [
    "\n",
    "\n",
    "airP.dropna()\n",
    "sns.lineplot(data=airP,x=airP.index,y='passengers')\n",
    "sns.lineplot(data=airP,x=airP.index,y='sarimaxPred')\n",
    "sns.lineplot(data=airP,x=airP.index,y='arimaPred')\n",
    "# model_fit.predict(start=futureDate.index[0],end=futureDate.index[-1]).plot(color='black')"
   ]
  },
  {
   "cell_type": "code",
   "execution_count": null,
   "id": "9d494843",
   "metadata": {
    "lines_to_next_cell": 2
   },
   "outputs": [],
   "source": [
    "\n",
    "\n",
    "np.sqrt(mean_squared_error(test['passengers'],prediction))"
   ]
  },
  {
   "cell_type": "code",
   "execution_count": null,
   "id": "ea509d3e",
   "metadata": {
    "lines_to_next_cell": 2
   },
   "outputs": [],
   "source": [
    "\n",
    "\n",
    "futureDate = pd.DataFrame(pd.date_range(start='1961-01-01', end='1962-12-01',freq='MS'),columns=['Dates'])\n",
    "futureDate.set_index('Dates',inplace=True)\n",
    "futureDate.head()"
   ]
  },
  {
   "cell_type": "code",
   "execution_count": null,
   "id": "a69db631",
   "metadata": {
    "lines_to_next_cell": 2
   },
   "outputs": [],
   "source": [
    "\n",
    "\n",
    "model_fit.predict(start=futureDate.index[0],end=futureDate.index[-1])"
   ]
  },
  {
   "cell_type": "code",
   "execution_count": null,
   "id": "6117b329",
   "metadata": {},
   "outputs": [],
   "source": [
    "\n",
    "\n",
    "airP.dropna()\n",
    "sns.lineplot(data=airP,x=airP.index,y='passengers')\n",
    "sns.lineplot(data=airP,x=airP.index,y='sarimaxPred')\n",
    "sns.lineplot(data=airP,x=airP.index,y='arimaPred')\n",
    "model_fit.predict(start=futureDate.index[0],end=futureDate.index[-1]).plot(color='black')\n",
    "\n",
    "\n",
    "# # Next - 3"
   ]
  },
  {
   "cell_type": "code",
   "execution_count": null,
   "id": "92c0eb67",
   "metadata": {
    "lines_to_next_cell": 2
   },
   "outputs": [],
   "source": [
    "\n",
    "\n",
    "checkDf = df[['passengers']]\n",
    "checkDf['diff1'] = checkDf.diff()\n",
    "# checkDf['diffInv'] = checkDf['diff1'].diffinv()\n",
    "checkDf.head()"
   ]
  },
  {
   "cell_type": "code",
   "execution_count": null,
   "id": "0ccd9c55",
   "metadata": {},
   "outputs": [],
   "source": []
  },
  {
   "cell_type": "code",
   "execution_count": null,
   "id": "3c493d62",
   "metadata": {},
   "outputs": [],
   "source": []
  }
 ],
 "metadata": {
  "jupytext": {
   "cell_metadata_filter": "-all",
   "encoding": "# coding: utf-8",
   "executable": "/usr/bin/env python",
   "main_language": "python",
   "notebook_metadata_filter": "-all"
  },
  "kernelspec": {
   "display_name": "Python 3",
   "language": "python",
   "name": "python3"
  },
  "language_info": {
   "codemirror_mode": {
    "name": "ipython",
    "version": 3
   },
   "file_extension": ".py",
   "mimetype": "text/x-python",
   "name": "python",
   "nbconvert_exporter": "python",
   "pygments_lexer": "ipython3",
   "version": "3.10.4"
  }
 },
 "nbformat": 4,
 "nbformat_minor": 5
}
